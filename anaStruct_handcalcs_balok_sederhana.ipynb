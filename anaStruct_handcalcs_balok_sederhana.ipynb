{
 "cells": [
  {
   "cell_type": "markdown",
   "id": "289a0ac8",
   "metadata": {},
   "source": [
    "<img src=\"image1.jpg\" width=\"500\" height=\"500\" align=left>\n",
    "\n",
    "\n",
    "# Anastruct (untuk analisis struktur)\n",
    "\n",
    "# Handcalcs (untuk menghitung kebutuhan tulangan)"
   ]
  },
  {
   "cell_type": "code",
   "execution_count": 19,
   "id": "1bad6515",
   "metadata": {},
   "outputs": [],
   "source": [
    "from math import*\n",
    "from balok import*\n",
    "from anastruct import SystemElements"
   ]
  },
  {
   "cell_type": "code",
   "execution_count": 26,
   "id": "dce692be",
   "metadata": {},
   "outputs": [],
   "source": [
    "# Data dimensi dan beban\n",
    "L = 7 # m\n",
    "h = 0.8 # m\n",
    "b_w = 0.4 # m\n",
    "f_c = 21 # MPa\n",
    "q = 30 # kN/m\n",
    "\n",
    "A = b_w*h\n",
    "I = (b_w*h**3)/12\n",
    "E = 4700*sqrt(f_c)"
   ]
  },
  {
   "cell_type": "code",
   "execution_count": 27,
   "id": "e5c7a560",
   "metadata": {},
   "outputs": [
    {
     "data": {
      "image/png": "[encoded data removed]",
      "text/plain": [
       "<Figure size 720x216 with 1 Axes>"
      ]
     },
     "metadata": {
      "needs_background": "light"
     },
     "output_type": "display_data"
    },
    {
     "data": {
      "image/png": "[encoded data removed]",
      "text/plain": [
       "<Figure size 720x216 with 1 Axes>"
      ]
     },
     "metadata": {
      "needs_background": "light"
     },
     "output_type": "display_data"
    }
   ],
   "source": [
    "# Analisis Struktur\n",
    "ss = SystemElements(EA=E*A,EI=E*I)\n",
    "ss.add_element(location=[[0,0],[L,0]])\n",
    "ss.q_load(q=-q, element_id=1)\n",
    "ss.add_support_hinged(1)\n",
    "ss.add_support_roll(2)\n",
    "ss.solve()\n",
    "ss.show_structure(figsize=[10,3])\n",
    "ss.show_bending_moment(figsize=[10,3])"
   ]
  },
  {
   "cell_type": "code",
   "execution_count": 28,
   "id": "9e25cc22",
   "metadata": {},
   "outputs": [],
   "source": [
    "hasil = ss.get_element_results(element_id=1)\n",
    "M_u = round( abs(hasil[\"Mmin\"]), 3)"
   ]
  },
  {
   "cell_type": "code",
   "execution_count": 29,
   "id": "37273a64",
   "metadata": {
    "scrolled": false
   },
   "outputs": [
    {
     "name": "stderr",
     "output_type": "stream",
     "text": [
      "/home/agus/anaconda3/lib/python3.9/site-packages/innerscope/core.py:506: UserWarning: Undefined variables: 'MPa', 'et', 'mm', 'ety'.\n",
      "Perhaps use `bind` method to assign values for these names before calling.\n",
      "  warnings.warn(\n"
     ]
    },
    {
     "data": {
      "text/latex": [
       "\\[\n",
       "\\begin{aligned}\n",
       "M_{u} &= 183.673\\ \\text{kN} \\cdot \\text{m} \\; \\;\\textrm{(momen ultimit)}\n",
       "\\\\[10pt]\n",
       "h &= 800.000\\ \\text{mm} \\; \\;\\textrm{(tinggi balok)}\n",
       "\\\\[10pt]\n",
       "b_{w} &= 400.000\\ \\text{mm} \\; \\;\\textrm{(lebar balok)}\n",
       "\\\\[10pt]\n",
       "f_{c} &= 21.000\\ \\text{MPa} \\; \\;\\textrm{(kuat tekan beton)}\n",
       "\\\\[10pt]\n",
       "f_{y} &= 420.000\\ \\text{MPa} \\; \\;\\textrm{(kuat leleh baja tulangan)}\n",
       "\\\\[10pt]\n",
       "D &= 16.000\\ \\text{mm} \\; \\;\\textrm{(diameter tulangan pokok)}\n",
       "\\\\[10pt]\n",
       "\\mathrm{Dv} &= 10.000\\ \\text{mm} \\; \\;\\textrm{(diameter tulangan sengkang)}\n",
       "\\\\[10pt]\n",
       "d_{s} &= 40.000\\ \\text{mm} \\; \\;\\textrm{(tebal selimut beton)}\n",
       "\\\\[10pt]\n",
       "d &= h - \\left( d_{s} + \\mathrm{Dv} + \\frac{ D }{ 2 } \\right) \\\\&= 800.000\\ \\text{mm} - \\left( 40.000\\ \\text{mm} + 10.000\\ \\text{mm} + \\frac{ 16.000\\ \\text{mm} }{ 2 } \\right) \\\\&= 742.000\\ \\text{mm}  \\\\\n",
       "\\\\[10pt]\n",
       "\\phi &= 0.9 \\; \\;\\textrm{(asumsi terkendali tarik)}\n",
       "\\\\[10pt]\n",
       "\\mathrm{jd} &= 0.9 \\cdot d \\\\&= 0.9 \\cdot 742.000\\ \\text{mm} \\\\&= 667.800\\ \\text{mm}  \\\\\n",
       "\\\\[10pt]\n",
       "A_{s} &= \\frac{ M_{u} }{ \\phi \\cdot f_{y} \\cdot \\mathrm{jd} } \\\\&= \\frac{ 183.673\\ \\text{kN} \\cdot \\text{m} }{ 0.9 \\cdot 420.000\\ \\text{MPa} \\cdot 667.800\\ \\text{mm} } \\\\&= 1005.310\\ \\text{mm}^{2}  \\\\\n",
       "\\\\[10pt]\n",
       "a &= \\frac{ A_{s} \\cdot f_{y} }{ 0.85 \\cdot f_{c} \\cdot b_{w} } \\\\&= \\frac{ 1005.310\\ \\text{mm}^{2} \\cdot 420.000\\ \\text{MPa} }{ 0.85 \\cdot 21.000\\ \\text{MPa} \\cdot 400.000\\ \\text{mm} } \\\\&= 59.136\\ \\text{mm}  \\\\\n",
       "\\\\[10pt]\n",
       "\\mathrm{As}_{min1} &= \\frac{ 0.25 \\cdot \\sqrt { f_{c} } \\cdot \\mathrm{MPa} }{ f_{y} } \\cdot b_{w} \\cdot d \\\\&= \\frac{ 0.25 \\cdot \\sqrt { 21.000\\ \\text{MPa} } \\cdot MPa }{ 420.000\\ \\text{MPa} } \\cdot 400.000\\ \\text{mm} \\cdot 742.000\\ \\text{mm} \\\\&= 809.588\\ \\text{mm}^{2}  \\\\\n",
       "\\\\[10pt]\n",
       "\\mathrm{As}_{min2} &= \\frac{ 1.4 \\cdot \\mathrm{MPa} }{ f_{y} } \\cdot b_{w} \\cdot d \\\\&= \\frac{ 1.4 \\cdot MPa }{ 420.000\\ \\text{MPa} } \\cdot 400.000\\ \\text{mm} \\cdot 742.000\\ \\text{mm} \\\\&= 989.333\\ \\text{mm}^{2}  \\\\\n",
       "\\\\[10pt]\n",
       "A_{s} &= \\operatorname{max} { \\left( A_{s} ,\\  \\mathrm{As}_{min1} ,\\  \\mathrm{As}_{min2} \\right) } \\\\&= \\operatorname{max} { \\left( 1005.310\\ \\text{mm}^{2} ,\\  809.588\\ \\text{mm}^{2} ,\\  989.333\\ \\text{mm}^{2} \\right) } \\\\&= 1005.310\\ \\text{mm}^{2} \\; \\;\\textrm{(luas tulangan perlu)}\\\\\n",
       "\\\\[10pt]\n",
       "\\mathrm{As}_{tul} &= 0.25 \\cdot \\pi \\cdot \\left( D \\right) ^{ 2 } \\\\&= 0.25 \\cdot 3.142 \\cdot \\left( 16.000\\ \\text{mm} \\right) ^{ 2 } \\\\&= 201.062\\ \\text{mm}^{2}  \\\\\n",
       "\\\\[10pt]\n",
       "n_{tul} &= \\operatorname{max} { \\left( \\left \\lceil \\frac{ A_{s} }{ \\mathrm{As}_{tul} } \\right \\rceil ,\\  2 \\right) } \\\\&= \\operatorname{max} { \\left( \\left \\lceil \\frac{ 1005.310\\ \\text{mm}^{2} }{ 201.062\\ \\text{mm}^{2} } \\right \\rceil ,\\  2 \\right) } \\\\&= 5 \\; \\;\\textrm{(jumlah tulangan perlu)}\\\\\n",
       "\\\\[10pt]\n",
       "\\mathrm{spasi} &= \\frac{ b_{w} - \\left( 2 \\cdot \\left( d_{s} + \\mathrm{Dv} \\right) + \\left( n_{tul} \\cdot D \\right) \\right) }{ n_{tul} - 1 } \\\\&= \\frac{ 400.000\\ \\text{mm} - \\left( 2 \\cdot \\left( 40.000\\ \\text{mm} + 10.000\\ \\text{mm} \\right) + \\left( 5 \\cdot 16.000\\ \\text{mm} \\right) \\right) }{ 5 - 1 } \\\\&= 55.000\\ \\text{mm}  \\\\\n",
       "\\\\[10pt]\n",
       "&\\text{Since, } \\mathrm{spasi} \\geq 25 \\cdot \\mathrm{mm} \\rightarrow \\left( 55.000\\ \\text{mm} \\geq 25 \\cdot mm \\right) :   \\end{aligned}\n",
       "\\]\n",
       "\\[\n",
       "\\begin{aligned}\n",
       "\\mathrm{kontrol} &= \\mathrm{memenuhi} \\; \n",
       "\\\\[10pt]\n",
       "A_{s} &= n_{tul} \\cdot \\mathrm{As}_{tul} \\\\&= 5 \\cdot 201.062\\ \\text{mm}^{2} \\\\&= 1005.310\\ \\text{mm}^{2}  \\\\\n",
       "\\\\[10pt]\n",
       "a &= \\frac{ A_{s} \\cdot f_{y} }{ 0.85 \\cdot f_{c} \\cdot b_{w} } \\\\&= \\frac{ 1005.310\\ \\text{mm}^{2} \\cdot 420.000\\ \\text{MPa} }{ 0.85 \\cdot 21.000\\ \\text{MPa} \\cdot 400.000\\ \\text{mm} } \\\\&= 59.136\\ \\text{mm}  \\\\\n",
       "\\\\[10pt]\n",
       "&\\text{Since, } 17 \\cdot \\mathrm{MPa} \\leq f_{c} \\leq 28 \\cdot \\mathrm{MPa} \\rightarrow \\left( 17 \\cdot MPa \\leq 21.000\\ \\text{MPa} \\leq 28 \\cdot MPa \\right) :   \\end{aligned}\n",
       "\\]\n",
       "\\[\n",
       "\\begin{aligned}\n",
       "\\beta_{1} &= 0.85 \\; \n",
       "\\\\[10pt]\n",
       "c &= \\frac{ a }{ \\beta_{1} } \\\\&= \\frac{ 59.136\\ \\text{mm} }{ 0.85 } \\\\&= 69.572\\ \\text{mm}  \\\\\n",
       "\\\\[10pt]\n",
       "\\epsilon_{t} &= \\left( \\frac{ d - c }{ c } \\right) \\cdot 0.003 \\\\&= \\left( \\frac{ 742.000\\ \\text{mm} - 69.572\\ \\text{mm} }{ 69.572\\ \\text{mm} } \\right) \\cdot 0.003 \\\\&= 0.029  \\\\\n",
       "\\\\[10pt]\n",
       "\\epsilon_{ty} &= 0.002 \\; \n",
       "\\\\[10pt]\n",
       "&\\text{Since, } \\epsilon_{t} \\geq 0.005 \\rightarrow \\left( 0.029 \\geq 0.005 \\right) :   \\end{aligned}\n",
       "\\]\n",
       "\\[\n",
       "\\begin{aligned}\n",
       "\\phi &= 0.9 \\; \n",
       "\\\\[10pt]\n",
       "M_{n} &= A_{s} \\cdot f_{y} \\cdot \\left( d - \\frac{ a }{ 2 } \\right) \\\\&= 1005.310\\ \\text{mm}^{2} \\cdot 420.000\\ \\text{MPa} \\cdot \\left( 742.000\\ \\text{mm} - \\frac{ 59.136\\ \\text{mm} }{ 2 } \\right) \\\\&= 300.810\\ \\text{kN} \\cdot \\text{m}  \\\\\n",
       "\\\\[10pt]\n",
       "\\phi_{Mn} &= \\phi \\cdot M_{n} \\\\&= 0.9 \\cdot 300.810\\ \\text{kN} \\cdot \\text{m} \\\\&= 270.729\\ \\text{kN} \\cdot \\text{m} \\; \\;\\textrm{(Momen nominal terfaktor)}\\\\\n",
       "\\\\[10pt]\n",
       "&\\text{Since, } \\phi_{Mn} \\gt M_{u} \\rightarrow \\left( 270.729\\ \\text{kN} \\cdot \\text{m} \\gt 183.673\\ \\text{kN} \\cdot \\text{m} \\right) :   \\end{aligned}\n",
       "\\]\n",
       "\\[\n",
       "\\begin{aligned}\n",
       "\\mathrm{kontrol} &= \\mathrm{memenuhi} \\; \n",
       "\\end{aligned}\n",
       "\\]"
      ],
      "text/plain": [
       "<IPython.core.display.Latex object>"
      ]
     },
     "metadata": {},
     "output_type": "display_data"
    }
   ],
   "source": [
    "b1 = balok(M_u = M_u*kN*m, b_w = (b_w*1000)*mm, h = (h*1000)*mm)"
   ]
  },
  {
   "cell_type": "code",
   "execution_count": null,
   "id": "56bc466d",
   "metadata": {},
   "outputs": [],
   "source": []
  }
 ],
 "metadata": {
  "kernelspec": {
   "display_name": "Python 3 (ipykernel)",
   "language": "python",
   "name": "python3"
  },
  "language_info": {
   "codemirror_mode": {
    "name": "ipython",
    "version": 3
   },
   "file_extension": ".py",
   "mimetype": "text/x-python",
   "name": "python",
   "nbconvert_exporter": "python",
   "pygments_lexer": "ipython3",
   "version": "3.9.7"
  }
 },
 "nbformat": 4,
 "nbformat_minor": 5
}
