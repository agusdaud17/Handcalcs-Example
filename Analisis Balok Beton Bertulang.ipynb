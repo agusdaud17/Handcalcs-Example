{
 "cells": [
  {
   "cell_type": "code",
   "execution_count": 17,
   "id": "e3bfaf36",
   "metadata": {},
   "outputs": [],
   "source": [
    "import handcalcs.render\n",
    "import forallpeople\n",
    "forallpeople.environment('structural', top_level=True)"
   ]
  },
  {
   "cell_type": "markdown",
   "id": "e9fa3f43",
   "metadata": {},
   "source": [
    "# Parameter desain:"
   ]
  },
  {
   "cell_type": "code",
   "execution_count": 22,
   "id": "bff60f45",
   "metadata": {},
   "outputs": [
    {
     "data": {
      "text/latex": [
       "\\[\n",
       "\\begin{aligned}\n",
       "f_{y} &= 420.000\\ \\text{MPa} \\; \\;\\textrm{(tegangan leleh baja)}\n",
       "\\\\[10pt]\n",
       "f_{c} &= 28.000\\ \\text{MPa} \\; \\;\\textrm{(kuat tekan beton)}\n",
       "\\\\[10pt]\n",
       "b &= 300.000\\ \\text{mm} \\; \\;\\textrm{(lebar penampang)}\n",
       "\\\\[10pt]\n",
       "d &= 430.000\\ \\text{mm} \\; \\;\\textrm{(tinggi efektif)}\n",
       "\\\\[10pt]\n",
       "A_{s} &= 1530.000\\ \\text{mm}^{2} \\; \\;\\textrm{(luas tulangan total)}\n",
       "\\end{aligned}\n",
       "\\]"
      ],
      "text/plain": [
       "<IPython.core.display.Latex object>"
      ]
     },
     "metadata": {},
     "output_type": "display_data"
    }
   ],
   "source": [
    "%%render short\n",
    "f_y = (420*MPa) # tegangan leleh baja\n",
    "f_c = (28*MPa) # kuat tekan beton\n",
    "b = (300*mm) # lebar penampang\n",
    "d = (430*mm) # tinggi efektif\n",
    "A_s = (1530*mm**2) # luas tulangan total"
   ]
  },
  {
   "cell_type": "markdown",
   "id": "6c702703",
   "metadata": {},
   "source": [
    "# Momen nominal"
   ]
  },
  {
   "cell_type": "code",
   "execution_count": 20,
   "id": "f1fbbe7d",
   "metadata": {},
   "outputs": [
    {
     "data": {
      "text/latex": [
       "\\[\n",
       "\\begin{aligned}\n",
       "a &= \\frac{ A_{s} \\cdot f_{y} }{ 0.85 \\cdot f_{c} \\cdot b } \\\\&= \\frac{ 1530.000\\ \\text{mm}^{2} \\cdot 420.000\\ \\text{MPa} }{ 0.85 \\cdot 28.000\\ \\text{MPa} \\cdot 300.000\\ \\text{mm} } \\\\&= 90.000\\ \\text{mm}  \\\\\n",
       "\\\\[10pt]\n",
       "M_{n} &= A_{s} \\cdot f_{y} \\cdot \\left( d - \\frac{ a }{ 2 } \\right) \\\\&= 1530.000\\ \\text{mm}^{2} \\cdot 420.000\\ \\text{MPa} \\cdot \\left( 430.000\\ \\text{mm} - \\frac{ 90.000\\ \\text{mm} }{ 2 } \\right) \\\\&= 247.401\\ \\text{kN} \\cdot \\text{m}  \\\\\n",
       "\\end{aligned}\n",
       "\\]"
      ],
      "text/plain": [
       "<IPython.core.display.Latex object>"
      ]
     },
     "metadata": {},
     "output_type": "display_data"
    }
   ],
   "source": [
    "%%render long\n",
    "a = (A_s*f_y) / (0.85*f_c*b)\n",
    "M_n = A_s*f_y*(d - a/2)"
   ]
  },
  {
   "cell_type": "code",
   "execution_count": null,
   "id": "b33d8de7",
   "metadata": {},
   "outputs": [],
   "source": []
  }
 ],
 "metadata": {
  "kernelspec": {
   "display_name": "Python 3 (ipykernel)",
   "language": "python",
   "name": "python3"
  },
  "language_info": {
   "codemirror_mode": {
    "name": "ipython",
    "version": 3
   },
   "file_extension": ".py",
   "mimetype": "text/x-python",
   "name": "python",
   "nbconvert_exporter": "python",
   "pygments_lexer": "ipython3",
   "version": "3.9.7"
  }
 },
 "nbformat": 4,
 "nbformat_minor": 5
}
